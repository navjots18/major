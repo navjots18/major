{
 "cells": [
  {
   "cell_type": "code",
   "execution_count": 1,
   "metadata": {},
   "outputs": [],
   "source": [
    "import pandas as pd\n",
    "import numpy as np"
   ]
  },
  {
   "cell_type": "code",
   "execution_count": 9,
   "metadata": {},
   "outputs": [],
   "source": [
    "import numpy as np\n",
    "np.random.seed(0)\n",
    "from keras.models import Model\n",
    "from keras.layers import Dense, Input, Dropout, LSTM, Activation\n",
    "from keras.layers.embeddings import Embedding\n",
    "from keras.preprocessing import sequence\n",
    "from keras.initializers import glorot_uniform\n",
    "np.random.seed(1)\n"
   ]
  },
  {
   "cell_type": "code",
   "execution_count": 10,
   "metadata": {},
   "outputs": [],
   "source": [
    "from nltk.tokenize import word_tokenize \n",
    "from nltk.tokenize import RegexpTokenizer\n",
    "from nltk.stem import LancasterStemmer\n",
    "from nltk.stem import PorterStemmer\n",
    "from nltk.corpus import stopwords\n",
    "from sklearn.model_selection import train_test_split\n",
    "from sklearn.feature_extraction.text import CountVectorizer\n",
    "import numpy as np\n",
    "import pandas as pd"
   ]
  },
  {
   "cell_type": "code",
   "execution_count": 2,
   "metadata": {},
   "outputs": [],
   "source": [
    "df = pd.read_csv('english_cleaned_lyrics.csv')"
   ]
  },
  {
   "cell_type": "code",
   "execution_count": 3,
   "metadata": {},
   "outputs": [
    {
     "data": {
      "text/html": [
       "<div>\n",
       "<style scoped>\n",
       "    .dataframe tbody tr th:only-of-type {\n",
       "        vertical-align: middle;\n",
       "    }\n",
       "\n",
       "    .dataframe tbody tr th {\n",
       "        vertical-align: top;\n",
       "    }\n",
       "\n",
       "    .dataframe thead th {\n",
       "        text-align: right;\n",
       "    }\n",
       "</style>\n",
       "<table border=\"1\" class=\"dataframe\">\n",
       "  <thead>\n",
       "    <tr style=\"text-align: right;\">\n",
       "      <th></th>\n",
       "      <th>Unnamed: 0</th>\n",
       "      <th>index</th>\n",
       "      <th>song</th>\n",
       "      <th>year</th>\n",
       "      <th>artist</th>\n",
       "      <th>genre</th>\n",
       "      <th>lyrics</th>\n",
       "    </tr>\n",
       "  </thead>\n",
       "  <tbody>\n",
       "    <tr>\n",
       "      <th>0</th>\n",
       "      <td>0</td>\n",
       "      <td>0</td>\n",
       "      <td>ego-remix</td>\n",
       "      <td>2009</td>\n",
       "      <td>beyonce-knowles</td>\n",
       "      <td>Pop</td>\n",
       "      <td>Oh baby how you doing You know I'm gonna cut r...</td>\n",
       "    </tr>\n",
       "    <tr>\n",
       "      <th>1</th>\n",
       "      <td>1</td>\n",
       "      <td>1</td>\n",
       "      <td>then-tell-me</td>\n",
       "      <td>2009</td>\n",
       "      <td>beyonce-knowles</td>\n",
       "      <td>Pop</td>\n",
       "      <td>playin everything so easy it's like you seem s...</td>\n",
       "    </tr>\n",
       "    <tr>\n",
       "      <th>2</th>\n",
       "      <td>2</td>\n",
       "      <td>2</td>\n",
       "      <td>honesty</td>\n",
       "      <td>2009</td>\n",
       "      <td>beyonce-knowles</td>\n",
       "      <td>Pop</td>\n",
       "      <td>If you search For tenderness It isn't hard to ...</td>\n",
       "    </tr>\n",
       "    <tr>\n",
       "      <th>3</th>\n",
       "      <td>3</td>\n",
       "      <td>3</td>\n",
       "      <td>you-are-my-rock</td>\n",
       "      <td>2009</td>\n",
       "      <td>beyonce-knowles</td>\n",
       "      <td>Pop</td>\n",
       "      <td>Oh oh oh I oh oh oh I If I wrote a book about ...</td>\n",
       "    </tr>\n",
       "    <tr>\n",
       "      <th>4</th>\n",
       "      <td>4</td>\n",
       "      <td>4</td>\n",
       "      <td>black-culture</td>\n",
       "      <td>2009</td>\n",
       "      <td>beyonce-knowles</td>\n",
       "      <td>Pop</td>\n",
       "      <td>Party the people the people the party it's pop...</td>\n",
       "    </tr>\n",
       "    <tr>\n",
       "      <th>...</th>\n",
       "      <td>...</td>\n",
       "      <td>...</td>\n",
       "      <td>...</td>\n",
       "      <td>...</td>\n",
       "      <td>...</td>\n",
       "      <td>...</td>\n",
       "      <td>...</td>\n",
       "    </tr>\n",
       "    <tr>\n",
       "      <th>218205</th>\n",
       "      <td>362232</td>\n",
       "      <td>362232</td>\n",
       "      <td>who-am-i-drinking-tonight</td>\n",
       "      <td>2012</td>\n",
       "      <td>edens-edge</td>\n",
       "      <td>Country</td>\n",
       "      <td>I gotta say Boy after only just a couple of da...</td>\n",
       "    </tr>\n",
       "    <tr>\n",
       "      <th>218206</th>\n",
       "      <td>362233</td>\n",
       "      <td>362233</td>\n",
       "      <td>liar</td>\n",
       "      <td>2012</td>\n",
       "      <td>edens-edge</td>\n",
       "      <td>Country</td>\n",
       "      <td>I helped you find her diamond ring You made me...</td>\n",
       "    </tr>\n",
       "    <tr>\n",
       "      <th>218207</th>\n",
       "      <td>362234</td>\n",
       "      <td>362234</td>\n",
       "      <td>last-supper</td>\n",
       "      <td>2012</td>\n",
       "      <td>edens-edge</td>\n",
       "      <td>Country</td>\n",
       "      <td>Look at the couple in the corner booth Looks a...</td>\n",
       "    </tr>\n",
       "    <tr>\n",
       "      <th>218208</th>\n",
       "      <td>362235</td>\n",
       "      <td>362235</td>\n",
       "      <td>christ-alone-live-in-studio</td>\n",
       "      <td>2012</td>\n",
       "      <td>edens-edge</td>\n",
       "      <td>Country</td>\n",
       "      <td>When I fly off this mortal earth And I'm measu...</td>\n",
       "    </tr>\n",
       "    <tr>\n",
       "      <th>218209</th>\n",
       "      <td>362236</td>\n",
       "      <td>362236</td>\n",
       "      <td>amen</td>\n",
       "      <td>2012</td>\n",
       "      <td>edens-edge</td>\n",
       "      <td>Country</td>\n",
       "      <td>I heard from a friend of a friend of a friend ...</td>\n",
       "    </tr>\n",
       "  </tbody>\n",
       "</table>\n",
       "<p>218210 rows × 7 columns</p>\n",
       "</div>"
      ],
      "text/plain": [
       "        Unnamed: 0   index                         song  year  \\\n",
       "0                0       0                    ego-remix  2009   \n",
       "1                1       1                 then-tell-me  2009   \n",
       "2                2       2                      honesty  2009   \n",
       "3                3       3              you-are-my-rock  2009   \n",
       "4                4       4                black-culture  2009   \n",
       "...            ...     ...                          ...   ...   \n",
       "218205      362232  362232    who-am-i-drinking-tonight  2012   \n",
       "218206      362233  362233                         liar  2012   \n",
       "218207      362234  362234                  last-supper  2012   \n",
       "218208      362235  362235  christ-alone-live-in-studio  2012   \n",
       "218209      362236  362236                         amen  2012   \n",
       "\n",
       "                 artist    genre  \\\n",
       "0       beyonce-knowles      Pop   \n",
       "1       beyonce-knowles      Pop   \n",
       "2       beyonce-knowles      Pop   \n",
       "3       beyonce-knowles      Pop   \n",
       "4       beyonce-knowles      Pop   \n",
       "...                 ...      ...   \n",
       "218205       edens-edge  Country   \n",
       "218206       edens-edge  Country   \n",
       "218207       edens-edge  Country   \n",
       "218208       edens-edge  Country   \n",
       "218209       edens-edge  Country   \n",
       "\n",
       "                                                   lyrics  \n",
       "0       Oh baby how you doing You know I'm gonna cut r...  \n",
       "1       playin everything so easy it's like you seem s...  \n",
       "2       If you search For tenderness It isn't hard to ...  \n",
       "3       Oh oh oh I oh oh oh I If I wrote a book about ...  \n",
       "4       Party the people the people the party it's pop...  \n",
       "...                                                   ...  \n",
       "218205  I gotta say Boy after only just a couple of da...  \n",
       "218206  I helped you find her diamond ring You made me...  \n",
       "218207  Look at the couple in the corner booth Looks a...  \n",
       "218208  When I fly off this mortal earth And I'm measu...  \n",
       "218209  I heard from a friend of a friend of a friend ...  \n",
       "\n",
       "[218210 rows x 7 columns]"
      ]
     },
     "execution_count": 3,
     "metadata": {},
     "output_type": "execute_result"
    }
   ],
   "source": [
    "df"
   ]
  },
  {
   "cell_type": "code",
   "execution_count": 71,
   "metadata": {},
   "outputs": [],
   "source": [
    "data = df.to_numpy()"
   ]
  },
  {
   "cell_type": "code",
   "execution_count": 73,
   "metadata": {},
   "outputs": [
    {
     "data": {
      "text/plain": [
       "array([0, 0, 'ego-remix', 2009, 'beyonce-knowles', 'Pop',\n",
       "       \"Oh baby how you doing You know I'm gonna cut right to the chase Some women were made but me myself I like to think that I was created for a special purpose You know what's more special than you You feel me It's on baby let's get lost You don't need to call into work cause you're the boss For real want you to show me how you feel I consider myself lucky that's a big deal Why Well you got the key to my heart But you ain't gonna need it I'd rather you open up my body And show me secrets you didn't know was inside No need for me to lie It's too big it's too wide It's too strong it won't fit It's too much it's too tough He talk like this cause he can back it up He got a big ego such a huge ego I love his big ego it's too much He walk like this cause he can back it up Usually I'm humble right now I don't choose You can leave with me or you could have the blues Some call it arrogant I call it confident You decide when you find on what I'm working with Damn I know I'm killing you with them legs Better yet them thighs Matter a fact it's my smile or maybe my eyes Boy you a site to see kind of something like me It's too big it's too wide It's too strong it won't fit It's too much it's too tough I talk like this cause I can back it up I got a big ego such a huge ego But he love my big ego it's too much I walk like this cause I can back it up I I walk like this cause I can back it up I I talk like this cause I can back it up I I can back it up I can back it up I walk like this cause I can back it up It's too big it's too wide It's too strong it won't fit It's too much it's too tough He talk like this cause he can back it up He got a big ego such a huge ego such a huge ego I love his big ego it's too much He walk like this cause he can back it up Ego so big you must admit I got every reason to feel like I'm that bitch Ego so strong if you ain't know I don't need no beat I can sing it with piano\"],\n",
       "      dtype=object)"
      ]
     },
     "execution_count": 73,
     "metadata": {},
     "output_type": "execute_result"
    }
   ],
   "source": [
    "data[0]"
   ]
  },
  {
   "cell_type": "code",
   "execution_count": 74,
   "metadata": {},
   "outputs": [],
   "source": [
    "x = data[:,6]"
   ]
  },
  {
   "cell_type": "code",
   "execution_count": 75,
   "metadata": {},
   "outputs": [
    {
     "data": {
      "text/plain": [
       "array([\"Oh baby how you doing You know I'm gonna cut right to the chase Some women were made but me myself I like to think that I was created for a special purpose You know what's more special than you You feel me It's on baby let's get lost You don't need to call into work cause you're the boss For real want you to show me how you feel I consider myself lucky that's a big deal Why Well you got the key to my heart But you ain't gonna need it I'd rather you open up my body And show me secrets you didn't know was inside No need for me to lie It's too big it's too wide It's too strong it won't fit It's too much it's too tough He talk like this cause he can back it up He got a big ego such a huge ego I love his big ego it's too much He walk like this cause he can back it up Usually I'm humble right now I don't choose You can leave with me or you could have the blues Some call it arrogant I call it confident You decide when you find on what I'm working with Damn I know I'm killing you with them legs Better yet them thighs Matter a fact it's my smile or maybe my eyes Boy you a site to see kind of something like me It's too big it's too wide It's too strong it won't fit It's too much it's too tough I talk like this cause I can back it up I got a big ego such a huge ego But he love my big ego it's too much I walk like this cause I can back it up I I walk like this cause I can back it up I I talk like this cause I can back it up I I can back it up I can back it up I walk like this cause I can back it up It's too big it's too wide It's too strong it won't fit It's too much it's too tough He talk like this cause he can back it up He got a big ego such a huge ego such a huge ego I love his big ego it's too much He walk like this cause he can back it up Ego so big you must admit I got every reason to feel like I'm that bitch Ego so strong if you ain't know I don't need no beat I can sing it with piano\",\n",
       "       \"playin everything so easy it's like you seem so sure still your ways you dont see i'm not sure if they're for me then things come right along our way though we didn't truly ask it seems as if they're gonna linger with every delight they bring just like what you have truly seemed i'm trying to think of what you really want to say even through my darkest day you might want to leave me feeling strange about you like you're gonna let me know when words then slipped out of you when words dont come so easy to say you just leave me feeling come what may though i want things coming from your way i say to you you bore me all the time when you seem to hold back all in you all that you want to let me know why dont you have the courage speak up and i'll listen if you truly want me to know then tell me is there something wrong with you and you seem fastened there it sounds as if there'll be a melody if things in you are let out and then i will feel alright when you sleep do you feel the same exactly as i do i really want to hear things from you though i've felt something new eversince you acted that way if i go would you still mind telling me if i stay you seem to let the days go by if you truly want to let me know then tell me \",\n",
       "       \"If you search For tenderness It isn't hard to find You can have the love You need to live But if you look For truthfulness You might just As well be blind It always seems to be So hard to give Chorus Honesty Is such a lonely word Everyone is so untrue Honesty Is hardly ever heard And mostly What I need from you I can always Find someone To say They sympathize If I wear my heart Out on my sleeve But I don't want Some pretty face To tell me Pretty lies All I want Is someone To believe Chorus I can find a lover I can find a friend I can have security Until the bitter end Anyone can comfort me With promises again I know I know When I'm deep Inside of me Don't be Too concerned I won't ask For nothin' While I'm gone But when I want Sincerity Tell me where else Can I turn When You're the one That I depend upon Chorus \",\n",
       "       ...,\n",
       "       \"Look at the couple in the corner booth Looks a lot like me and you She's looking out at the window He's staring down at his shoes She gets another glass of Cabernet She's searching hard for something to say He's got that little too late look on his already gone face Look through each other like a piece of glass Is that what happens when the years fly past Lately I've been feeling like that Is it time for a coming to Jesus Baby tell me that won't be us us Is that all we are to each other Could it be our last supper Tell me you're uncomfortably numb I can't imagine I'm the only one Is goodbye on the tip of your tongue Any love left gotta be some Why'd you bring me to my favorite place A little wine and everything's OK Are we really gonna end this way Is it time for a coming to Jesus Baby tell me that won't be us us Is that all we are to each other Could it be our last supper You break the bread and you break my heart You raise the glass as we fall apart Guess it's time for a coming to Jesus Looks like that just might be us us Is that all we are to each other Looks like it's out last supper Look at the couple in the corner booth Looks a lot like me and you\",\n",
       "       \"When I fly off this mortal earth And I'm measured up by depth and girth The Father says now what's he worth May he see Jesus death and birth Don't measure me by dollar signs Or bricks and mortar you may find By Christ alone will I be found Worthy of that golden crown Worthy of that golden crown The value of this life I've lived How did I love did I forgive Where did my treasure truly lay How did I start and end each day Don't measure me by battles won Or some good deed that I have done By Christ alone will I be found Worthy of that golden crown Worthy of that golden crown May be a pauper or a king Have nothing or have everything The question begs do you belong Do you sing a resurrection song Measured by the master's hand On only one truth can we stand By Christ alone will we be found Worthy of that golden crown Worthy of that golden crown\",\n",
       "       \"I heard from a friend of a friend of a friend that You finally got rid of that girlfriend You finally came out of that love coma boy I heard Mary Jane at the powder puff beauty shop Sayin that blond in her tube top She left our Jimmy for a boy in Illinois Someone give me an amen Someone give me an amen Can I get a thank God Hallelujah You finally saw what she was doing to ya Your mama called it she was right Glad to see you saw the light Whole town yeah we hooped and hollered She drove away nobody stopped her Na na na na na I'll say it again Someone give me an amen Yeah right like I really coulda said something You wouldn't heard it if the train was coming You had your head so high in the clouds Oh I I had a really good reason For hiding my feelings but now I can finally spit it out Someone give me an amen Someone give me an amen Can I get a thank God Hallelujah You finally saw what she was doing to ya Your mama called it she was right Glad to see you saw the light Whole town yeah we hooped and hollered She drove away nobody stopped her Na na na na na I'll say it again Someone give me an amen I'm standing right here in front of you I think I love you too Can I get a thank God Hallelujah Baby do you believe it do you Your mama called it she was right Glad to see you saw the light Whole town yeah they hooped and hollered The preacher's son and the farmer's daughter Na na na na na I'll say it again Someone give me an amen Someone give me an amen Na na na na na na na na na na na Na na na na na na na na na na na\"],\n",
       "      dtype=object)"
      ]
     },
     "execution_count": 75,
     "metadata": {},
     "output_type": "execute_result"
    }
   ],
   "source": [
    "x"
   ]
  },
  {
   "cell_type": "code",
   "execution_count": 79,
   "metadata": {},
   "outputs": [],
   "source": [
    "y = data[:,5]"
   ]
  },
  {
   "cell_type": "code",
   "execution_count": 80,
   "metadata": {},
   "outputs": [
    {
     "data": {
      "text/plain": [
       "'Pop'"
      ]
     },
     "execution_count": 80,
     "metadata": {},
     "output_type": "execute_result"
    }
   ],
   "source": [
    "y[0]"
   ]
  },
  {
   "cell_type": "code",
   "execution_count": 81,
   "metadata": {},
   "outputs": [],
   "source": [
    "def read_glove_vecs(glove_file):\n",
    "    with open(glove_file, 'r',encoding='utf-8') as f:\n",
    "        words = set()\n",
    "        word_to_vec_map = {}\n",
    "        for line in f:\n",
    "            line = line.strip().split()\n",
    "            curr_word = line[0]\n",
    "            words.add(curr_word)\n",
    "            word_to_vec_map[curr_word] = np.array(line[1:], dtype=np.float64)\n",
    "        \n",
    "        i = 1\n",
    "        words_to_index = {}\n",
    "        index_to_words = {}\n",
    "        for w in sorted(words):\n",
    "            words_to_index[w] = i\n",
    "            index_to_words[i] = w\n",
    "            i = i + 1\n",
    "    return words_to_index, index_to_words, word_to_vec_map"
   ]
  },
  {
   "cell_type": "code",
   "execution_count": 82,
   "metadata": {},
   "outputs": [],
   "source": [
    "word_to_index, index_to_word, word_to_vec_map = read_glove_vecs('glove.6B.50d.txt')"
   ]
  },
  {
   "cell_type": "code",
   "execution_count": 83,
   "metadata": {},
   "outputs": [
    {
     "data": {
      "text/plain": [
       "69714"
      ]
     },
     "execution_count": 83,
     "metadata": {},
     "output_type": "execute_result"
    }
   ],
   "source": [
    "word_to_index['baseball']"
   ]
  },
  {
   "cell_type": "code",
   "execution_count": 84,
   "metadata": {},
   "outputs": [
    {
     "data": {
      "text/plain": [
       "11"
      ]
     },
     "execution_count": 84,
     "metadata": {},
     "output_type": "execute_result"
    }
   ],
   "source": [
    "len(df['genre'].unique())"
   ]
  },
  {
   "cell_type": "code",
   "execution_count": 107,
   "metadata": {},
   "outputs": [],
   "source": [
    "def sentences_to_indices(X, word_to_index, max_len):\n",
    "    \n",
    "    m = X.shape[0]                                  \n",
    "    \n",
    "    X_indices = np.zeros((m, max_len))\n",
    "    \n",
    "    for i in range(m):                             \n",
    "        \n",
    "\n",
    "        sentence_words = [w.lower() for w in X[i].split()]\n",
    "        \n",
    "     \n",
    "        j = 0\n",
    "        \n",
    "      \n",
    "        for w in sentence_words:\n",
    "            if j>999:\n",
    "                break\n",
    "            if w in word_to_index:\n",
    "                X_indices[i, j] = word_to_index[w]\n",
    "            j += 1\n",
    "\n",
    "    \n",
    "    return X_indices"
   ]
  },
  {
   "cell_type": "code",
   "execution_count": 86,
   "metadata": {},
   "outputs": [
    {
     "name": "stdout",
     "output_type": "stream",
     "text": [
      "X1 = ['univ lol' 'lets play baseball' 'food is ready for you']\n",
      "X1_indices = [[372217. 225122.      0.      0.      0.]\n",
      " [220930. 286375.  69714.      0.      0.]\n",
      " [151204. 192973. 302254. 151349. 394475.]]\n"
     ]
    }
   ],
   "source": [
    "\n",
    "X1 = np.array([\"univ lol\", \"lets play baseball\", \"food is ready for you\"])\n",
    "X1_indices = sentences_to_indices(X1,word_to_index, max_len = 5)\n",
    "print(\"X1 =\", X1)\n",
    "print(\"X1_indices =\", X1_indices)"
   ]
  },
  {
   "cell_type": "code",
   "execution_count": 87,
   "metadata": {},
   "outputs": [],
   "source": [
    "def pretrained_embedding_layer(word_to_vec_map, word_to_index):\n",
    "   \n",
    "    vocab_len = len(word_to_index) + 1                 \n",
    "    emb_dim = word_to_vec_map[\"cucumber\"].shape[0]      \n",
    "    \n",
    "  \n",
    "    emb_matrix = np.zeros((vocab_len, emb_dim))\n",
    "    \n",
    "    for word, index in word_to_index.items():\n",
    "        emb_matrix[index, :] = word_to_vec_map[word]\n",
    "        \n",
    "    embedding_layer = Embedding(vocab_len, emb_dim, trainable=False)\n",
    "    embedding_layer.build((None,))\n",
    "    \n",
    "    embedding_layer.set_weights([emb_matrix])\n",
    "    \n",
    "    return embedding_layer"
   ]
  },
  {
   "cell_type": "code",
   "execution_count": 88,
   "metadata": {},
   "outputs": [
    {
     "name": "stdout",
     "output_type": "stream",
     "text": [
      "weights[0][1][3] = -0.3403\n"
     ]
    }
   ],
   "source": [
    "embedding_layer = pretrained_embedding_layer(word_to_vec_map, word_to_index)\n",
    "print(\"weights[0][1][3] =\", embedding_layer.get_weights()[0][1][3])"
   ]
  },
  {
   "cell_type": "code",
   "execution_count": 89,
   "metadata": {},
   "outputs": [],
   "source": [
    "def Emojify_V2(input_shape, word_to_vec_map, word_to_index):\n",
    "  \n",
    "    \n",
    "    sentence_indices = Input(input_shape, dtype='int32')\n",
    "    \n",
    "\n",
    "    embedding_layer = pretrained_embedding_layer(word_to_vec_map, word_to_index)\n",
    "    \n",
    "   \n",
    "    embeddings = embedding_layer(sentence_indices)   \n",
    "    \n",
    " \n",
    "    X = LSTM(128, return_sequences=True)(embeddings)\n",
    "    \n",
    "    X = Dropout(0.5)(X)\n",
    "   \n",
    "    X = LSTM(128, return_sequences=False)(X)\n",
    "    \n",
    "    X = Dropout(0.5)(X)\n",
    "    \n",
    "    X = Dense(11)(X)\n",
    "    \n",
    "    X = Activation('softmax')(X)\n",
    "    \n",
    "    \n",
    "    model = Model(inputs=sentence_indices, outputs=X)\n",
    "    \n",
    "\n",
    "    \n",
    "    return model"
   ]
  },
  {
   "cell_type": "code",
   "execution_count": 90,
   "metadata": {},
   "outputs": [
    {
     "name": "stdout",
     "output_type": "stream",
     "text": [
      "Model: \"functional_3\"\n",
      "_________________________________________________________________\n",
      "Layer (type)                 Output Shape              Param #   \n",
      "=================================================================\n",
      "input_2 (InputLayer)         [(None, 1000)]            0         \n",
      "_________________________________________________________________\n",
      "embedding_3 (Embedding)      (None, 1000, 50)          20000050  \n",
      "_________________________________________________________________\n",
      "lstm_2 (LSTM)                (None, 1000, 128)         91648     \n",
      "_________________________________________________________________\n",
      "dropout_2 (Dropout)          (None, 1000, 128)         0         \n",
      "_________________________________________________________________\n",
      "lstm_3 (LSTM)                (None, 128)               131584    \n",
      "_________________________________________________________________\n",
      "dropout_3 (Dropout)          (None, 128)               0         \n",
      "_________________________________________________________________\n",
      "dense_1 (Dense)              (None, 11)                1419      \n",
      "_________________________________________________________________\n",
      "activation_1 (Activation)    (None, 11)                0         \n",
      "=================================================================\n",
      "Total params: 20,224,701\n",
      "Trainable params: 224,651\n",
      "Non-trainable params: 20,000,050\n",
      "_________________________________________________________________\n"
     ]
    }
   ],
   "source": [
    "model = Emojify_V2((1000,), word_to_vec_map, word_to_index)\n",
    "model.summary()"
   ]
  },
  {
   "cell_type": "code",
   "execution_count": 91,
   "metadata": {},
   "outputs": [],
   "source": [
    "\n",
    "model.compile(loss='categorical_crossentropy', optimizer='adam', metrics=['accuracy'])"
   ]
  },
  {
   "cell_type": "code",
   "execution_count": 92,
   "metadata": {},
   "outputs": [],
   "source": [
    "def convert_to_one_hot(Y, C):\n",
    "    Y = np.eye(C)[Y.reshape(-1)]\n",
    "    return Y"
   ]
  },
  {
   "cell_type": "code",
   "execution_count": 93,
   "metadata": {},
   "outputs": [
    {
     "data": {
      "text/plain": [
       "(218210,)"
      ]
     },
     "execution_count": 93,
     "metadata": {},
     "output_type": "execute_result"
    }
   ],
   "source": [
    "x.shape"
   ]
  },
  {
   "cell_type": "code",
   "execution_count": 94,
   "metadata": {},
   "outputs": [],
   "source": [
    "\n",
    "X_train, X_test, y_train, y_test = train_test_split(x, y, test_size=0.33, random_state=42)"
   ]
  },
  {
   "cell_type": "code",
   "execution_count": 95,
   "metadata": {},
   "outputs": [
    {
     "data": {
      "text/plain": [
       "array(['High low here we go Hear the word That floats upon the air above Reach up touch the night Catch a light That\\'s falling on the only ones The only ones And the way you see your life A case of \"do or die\" Returns us to the way It used to be before And the future lies In the years of sacrifice You\\'ll open up your eyes And wake to see it Standing at your door Right time turn it on Touch a heart That\\'s waiting for the only one Night time can\\'t go wrong Open up and sing the song For everyone And the way you see your life A case of \"do or die\" To preserve your sanity When others lose control And the years we spent Heaven blessed or heaven sent Sang where kings and presidents Could change the world Just standing at the wall Why tell me why don\\'t you know Do you believe in dreams Tell me where did they go Why did they leave us If you ask me I don\\'t know Where did the music go After all is said and done Same chance for everyone If you ask us we can\\'t say When did the music go away After all is said and done Same chance for everyone Why tell me why don\\'t you know Do you believe in dreams Tell me where did they go Why did they leave us ',\n",
       "       \"Feel the vibe Feel the vibe Feel the vibe Feel the vibe Feel the vibe Feel the vibe Feel the vibe everybody gather round I pull the plug still my sound's profound I had to take hip hop back to the essence Try to go commercial gotta learn a lesson You gotta get your fingers dusty word And keep your ear to the street so you won't get rusty Concentrate on the funk vibe Funk vibe Learn your roots put on your Timberland boots I'm true to my art I never fake a move I keep your head bobbing to the psychotic groove The vibe is erotic contagious and sporotic I love beats so much I'm damn near neurotic I shoot the gift like a Mack 10 And sample beats we used to cut way back when But now the game has changed Artist selling out just to make a name The underground hip hop fans can't stand it So play like Chuck Connors because now you're branded a sellout So yo get the hell out We took a dive because you couldn't feel the vibe Is this the vibe you desire Diamond running down the line Is this the vibe you desire You know you're on time Well let me continue with what's on the menu I dug in the crate Now it's time to get the papes Is this the vibe you desire Diamond running down the line Is this the vibe you desire You know you're on time Well let me continue with what's on the menu I dug in the crate Now it's time to get the papes You know I feel the vibe my name is Show B I Z I used to cut at jams when I was 4 foot 3 Early in the morning listen to beats And back then I was the shorty With the Nikes on his feet Back to a brother who sold out Did he He aimed for a name and some fame without any doubt He was my man so he let me hear a taste But he dissed his face because the shit ain't have no bass His beats was clogged he needed Liquid Plumber Damn I wonder why he sound like Donna Summers Or Nat King Cole that style is old 100 G's up front you've just been sold They kidnap your creative control No chance of going platinum or even gold It wouldn't happen to me Why not I got the skills that's ill and I'm real cause I feel the beat Is this the vibe you desire Show running down the line Is this the vibe you desire You know you're on time Well let me continue with what's on the menu I dug in the crate Now it's time to get the papes Is this the vibe you desire Show running down the line Is this the vibe you desire You know you're on time Well let me continue with what's on the menu I dug in the crate Now it's time to get the papes Yeah I knew a kid who was nice on the mic Had a record deal but the deal wasn't real 'Cause the record label wouldn't spend any loot But he had a deal and my man got souped He knew a lot of old beats but it didn't matter The label had other ideas for the platter I heard the song and I had to scream The had him rhyming over hype drum machines He didn't like it but he had no say And now he's out of here today Try to fake the funk it couldn't shake a rump But the radio played the junk anyway But the song wouldn't budge Now against the ex label he holds a grudge Looking for a deal because the song took a dive 'Cause he couldn't feel the vibe But who's to blame in the world of the rap game Stick to your roots like a troop and let me know Is this the vibe you desire Diamond running down the line Is this the vibe you desire You know you're on time Well let me continue with what's on the menu I dug in the crate Now it's time to get the papes Is this the vibe you desire Diamond running down the line Is this the vibe you desire You know you're on time Well let me continue with what's on the menu I dug in the crate Now it's time to get the papes \",\n",
       "       'Out in the darkest place were there\\'s a thousand shades of Blue everyone looks the same and then your light came in to view You stopped my heart and got me saying \"Where did you come from \" it\\'s like you fell off of the sky and saved me an angel from the sun I could live forever in your arms in your arms baby we can fly together to the stars back to Mars wherever you wanna go My future\\'s with you from tonight I could live forever in your arms in your arms And when I touch your face it shows me worlds I\\'ve never known frozen in time and space don\\'t want to let this moment go You stopped my heart and got me saying \"Where did you come from \" it\\'s like you fell off of the sky and saved me an angel from the sun I could live forever in your arms in your arms baby we can fly together to the stars back to Mars wherever you wanna go My future\\'s with you from tonight I could live forever in your arms in your arms Stay with me come stay with me forever and ever taking me you\\'re taking me to heaven to heaven I could live forever in your arms in your arms baby we can fly together to the stars back to Mars I could live forever in your arms in your arms baby we can fly together to the stars back to Mars wherever you wanna go My future\\'s with you from tonight I could live forever in your arms in your arms',\n",
       "       ...,\n",
       "       'now you fill my eyes with your painted smile fill my eyes the things you say the games you play things you say yes i\\'ve seen all your heroes be the best they could be won\\'t ever fit in the world i see they have no meaning they seem fake to me now you fill my eyes with your painted smile fill my eyes the hate inside of me grows up when i see your hypocrisy \"i need each one of you we gonna change this we\\'ll make it happen \" you\\'re preaching us a new world order leave me set me free',\n",
       "       'If I could talk to God I\\'d have a million questions If we could sit down face to face I\\'d inquire how He likes to spend His days And if He has any regrets about this world He made Everywhere I look children hungry people hurting Is it working Does it really have to be this way I think He might say \"Hey it\\'s really very simple follow My example\" People it\\'s not so hard living the right way Learn to love each other your sister and your brother If I could talk to God I wonder if that\\'s what he\\'d say If I could talk to God I\\'d look him in the eye and Ask him about my destiny Shouldn\\'t I spend my time on grander things And does it even make a difference anyway In a world full of confusion am I part of the solution And will it take a revolution for the world to change',\n",
       "       'Hey you what\\'s the matter Lately you\\'ve been looking down Is that someone in the mirror The reason you don\\'t come around That\\'s crazy This isn\\'t the \"you\" I know Feeling un pretty Puttin on a show You don\\'t wanna be a wannabe So who you really gonna be Only You can be you Only I can be me You always wanna be what you\\'re not Can\\'t you be happy with what you\\'ve got You\\'re perfect the way you are with your insecurities flaws and scars Life\\'s too short to worry Don\\'t you know it\\'s true Only You can be you you can be you Only I can be me I can be me Only You can be you you can be you Only I can be me I can be me You think you ain\\'t got swagger Gotta be cooler than you are I think whatever Let em know that you\\'re a star Be crazy Be who you wanna be No maybe\\'s You\\'re a celebrity You don\\'t wanna be a wannabe Show them who you\\'re gonna be Only You can be you Only I can be me You always wanna be what you\\'re not Can\\'t you be happy with what you\\'ve got You\\'re perfect the way you are with your insecurities flaws and scars Life\\'s too short to worry Don\\'t you know it\\'s true Only You can be you you can be you Only I can be me I can be me Only You can be you you can be you Only I can be me I can be me If you love who you are put your hands up You feelin good bout yourself Then stand up You independent and you\\'re strong Throw your hands up You feelin fabulous Put your hands up You could be you I could be me You a star if you ain\\'t on TV You tall you short you different you cute You light you dark you beautiful you you '],\n",
       "      dtype=object)"
      ]
     },
     "execution_count": 95,
     "metadata": {},
     "output_type": "execute_result"
    }
   ],
   "source": [
    "X_train"
   ]
  },
  {
   "cell_type": "code",
   "execution_count": 111,
   "metadata": {},
   "outputs": [],
   "source": [
    "def one_hot(array):\n",
    "    unique, inverse = np.unique(array, return_inverse=True)\n",
    "    onehot = np.eye(unique.shape[0])[inverse]\n",
    "    return onehot"
   ]
  },
  {
   "cell_type": "code",
   "execution_count": 112,
   "metadata": {},
   "outputs": [],
   "source": [
    "X_train_indices = sentences_to_indices(X_train, word_to_index, 1000)\n",
    "Y_train_oh = one_hot(y_train)"
   ]
  },
  {
   "cell_type": "code",
   "execution_count": 113,
   "metadata": {},
   "outputs": [
    {
     "data": {
      "text/plain": [
       "array([[0., 0., 0., ..., 0., 0., 1.],\n",
       "       [0., 0., 0., ..., 0., 0., 0.],\n",
       "       [0., 0., 0., ..., 1., 0., 0.],\n",
       "       ...,\n",
       "       [0., 0., 0., ..., 0., 0., 1.],\n",
       "       [0., 0., 0., ..., 1., 0., 0.],\n",
       "       [0., 0., 0., ..., 0., 0., 0.]])"
      ]
     },
     "execution_count": 113,
     "metadata": {},
     "output_type": "execute_result"
    }
   ],
   "source": [
    "Y_train_oh"
   ]
  },
  {
   "cell_type": "code",
   "execution_count": null,
   "metadata": {},
   "outputs": [
    {
     "name": "stdout",
     "output_type": "stream",
     "text": [
      "Epoch 1/10\n",
      "4569/4569 [==============================] - 11958s 3s/step - loss: 1.7343 - accuracy: 0.4670\n",
      "Epoch 2/10\n",
      " 827/4569 [====>.........................] - ETA: 2:39:21 - loss: 1.6286 - accuracy: 0.5038"
     ]
    }
   ],
   "source": [
    "model.fit(X_train_indices, Y_train_oh, epochs = 10, batch_size = 32, shuffle=True)"
   ]
  },
  {
   "cell_type": "code",
   "execution_count": null,
   "metadata": {},
   "outputs": [],
   "source": []
  },
  {
   "cell_type": "code",
   "execution_count": null,
   "metadata": {},
   "outputs": [],
   "source": []
  }
 ],
 "metadata": {
  "kernelspec": {
   "display_name": "Python 3",
   "language": "python",
   "name": "python3"
  },
  "language_info": {
   "codemirror_mode": {
    "name": "ipython",
    "version": 3
   },
   "file_extension": ".py",
   "mimetype": "text/x-python",
   "name": "python",
   "nbconvert_exporter": "python",
   "pygments_lexer": "ipython3",
   "version": "3.8.3"
  }
 },
 "nbformat": 4,
 "nbformat_minor": 4
}
