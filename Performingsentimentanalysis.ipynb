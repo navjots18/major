{
 "cells": [
  {
   "cell_type": "markdown",
   "metadata": {
    "colab_type": "text",
    "id": "view-in-github"
   },
   "source": [
    "<a href=\"https://colab.research.google.com/github/higgsboson1209/songswelove/blob/master/Performingsentimentanalysis.ipynb\" target=\"_parent\"><img src=\"https://colab.research.google.com/assets/colab-badge.svg\" alt=\"Open In Colab\"/></a>"
   ]
  },
  {
   "cell_type": "code",
   "execution_count": 1,
   "metadata": {
    "colab": {},
    "colab_type": "code",
    "id": "JuSvd74KhJow"
   },
   "outputs": [],
   "source": [
    "import io\n",
    "import pandas as pd\n",
    "import numpy as np \n",
    "from nltk.sentiment.vader import SentimentIntensityAnalyzer\n",
    "df = pd.read_csv('hot.csv')\n"
   ]
  },
  {
   "cell_type": "code",
   "execution_count": 2,
   "metadata": {
    "colab": {
     "base_uri": "https://localhost:8080/",
     "height": 402
    },
    "colab_type": "code",
    "id": "sb6bzQ04i0g3",
    "outputId": "c41b6787-a2bb-439e-8a3f-5b967a479ef6"
   },
   "outputs": [
    {
     "data": {
      "text/html": [
       "<div>\n",
       "<style scoped>\n",
       "    .dataframe tbody tr th:only-of-type {\n",
       "        vertical-align: middle;\n",
       "    }\n",
       "\n",
       "    .dataframe tbody tr th {\n",
       "        vertical-align: top;\n",
       "    }\n",
       "\n",
       "    .dataframe thead th {\n",
       "        text-align: right;\n",
       "    }\n",
       "</style>\n",
       "<table border=\"1\" class=\"dataframe\">\n",
       "  <thead>\n",
       "    <tr style=\"text-align: right;\">\n",
       "      <th></th>\n",
       "      <th>Unnamed: 0</th>\n",
       "      <th>Song</th>\n",
       "      <th>Performer</th>\n",
       "      <th>Lyrics</th>\n",
       "    </tr>\n",
       "  </thead>\n",
       "  <tbody>\n",
       "    <tr>\n",
       "      <th>0</th>\n",
       "      <td>226790</td>\n",
       "      <td>Firework</td>\n",
       "      <td>Katy Perry</td>\n",
       "      <td>[Verse 1]\\nDo you ever feel like a plastic bag...</td>\n",
       "    </tr>\n",
       "    <tr>\n",
       "      <th>1</th>\n",
       "      <td>225090</td>\n",
       "      <td>Grenade</td>\n",
       "      <td>Bruno Mars</td>\n",
       "      <td>[Verse 1]\\nEasy come, easy go, that's just how...</td>\n",
       "    </tr>\n",
       "    <tr>\n",
       "      <th>2</th>\n",
       "      <td>147144</td>\n",
       "      <td>What's My Name?</td>\n",
       "      <td>Rihanna Featuring Drake</td>\n",
       "      <td>[Refrain: Rihanna &amp; Drake]\\nOh na-na, what's m...</td>\n",
       "    </tr>\n",
       "    <tr>\n",
       "      <th>3</th>\n",
       "      <td>98844</td>\n",
       "      <td>Raise Your Glass</td>\n",
       "      <td>P!nk</td>\n",
       "      <td>[Verse 1]\\nRight, right, turn off the lights\\n...</td>\n",
       "    </tr>\n",
       "    <tr>\n",
       "      <th>4</th>\n",
       "      <td>129380</td>\n",
       "      <td>We R Who We R</td>\n",
       "      <td>Ke$ha</td>\n",
       "      <td>[Verse 1]\\nHot and dangerous\\nIf you’re one of...</td>\n",
       "    </tr>\n",
       "    <tr>\n",
       "      <th>...</th>\n",
       "      <td>...</td>\n",
       "      <td>...</td>\n",
       "      <td>...</td>\n",
       "      <td>...</td>\n",
       "    </tr>\n",
       "    <tr>\n",
       "      <th>4591</th>\n",
       "      <td>85845</td>\n",
       "      <td>Throw That</td>\n",
       "      <td>Slaughterhouse Featuring Eminem</td>\n",
       "      <td>[Intro: Eminem]\\nRight about now\\nYou're about...</td>\n",
       "    </tr>\n",
       "    <tr>\n",
       "      <th>4592</th>\n",
       "      <td>143812</td>\n",
       "      <td>Unica</td>\n",
       "      <td>Ozuna</td>\n",
       "      <td>[Letra de \"Única\"]\\n\\n[Intro]\\nSalgo a gastar ...</td>\n",
       "    </tr>\n",
       "    <tr>\n",
       "      <th>4593</th>\n",
       "      <td>54168</td>\n",
       "      <td>Happy Now</td>\n",
       "      <td>Zedd &amp; Elley Duhe</td>\n",
       "      <td>[Chorus: Elley Duhé]\\nYou're a world away\\nSom...</td>\n",
       "    </tr>\n",
       "    <tr>\n",
       "      <th>4594</th>\n",
       "      <td>203836</td>\n",
       "      <td>Younger Now</td>\n",
       "      <td>Miley Cyrus</td>\n",
       "      <td>[Verse 1]\\nFeels like I just woke up\\nLike all...</td>\n",
       "    </tr>\n",
       "    <tr>\n",
       "      <th>4595</th>\n",
       "      <td>50599</td>\n",
       "      <td>Its Every Night Sis</td>\n",
       "      <td>RiceGum Featuring Alissa Violet</td>\n",
       "      <td>[Intro: Alissa Violet]\\nDream Addix\\nYo, I was...</td>\n",
       "    </tr>\n",
       "  </tbody>\n",
       "</table>\n",
       "<p>4596 rows × 4 columns</p>\n",
       "</div>"
      ],
      "text/plain": [
       "      Unnamed: 0                 Song                        Performer  \\\n",
       "0         226790             Firework                       Katy Perry   \n",
       "1         225090              Grenade                       Bruno Mars   \n",
       "2         147144      What's My Name?          Rihanna Featuring Drake   \n",
       "3          98844     Raise Your Glass                             P!nk   \n",
       "4         129380        We R Who We R                            Ke$ha   \n",
       "...          ...                  ...                              ...   \n",
       "4591       85845           Throw That  Slaughterhouse Featuring Eminem   \n",
       "4592      143812                Unica                            Ozuna   \n",
       "4593       54168            Happy Now                Zedd & Elley Duhe   \n",
       "4594      203836          Younger Now                      Miley Cyrus   \n",
       "4595       50599  Its Every Night Sis  RiceGum Featuring Alissa Violet   \n",
       "\n",
       "                                                 Lyrics  \n",
       "0     [Verse 1]\\nDo you ever feel like a plastic bag...  \n",
       "1     [Verse 1]\\nEasy come, easy go, that's just how...  \n",
       "2     [Refrain: Rihanna & Drake]\\nOh na-na, what's m...  \n",
       "3     [Verse 1]\\nRight, right, turn off the lights\\n...  \n",
       "4     [Verse 1]\\nHot and dangerous\\nIf you’re one of...  \n",
       "...                                                 ...  \n",
       "4591  [Intro: Eminem]\\nRight about now\\nYou're about...  \n",
       "4592  [Letra de \"Única\"]\\n\\n[Intro]\\nSalgo a gastar ...  \n",
       "4593  [Chorus: Elley Duhé]\\nYou're a world away\\nSom...  \n",
       "4594  [Verse 1]\\nFeels like I just woke up\\nLike all...  \n",
       "4595  [Intro: Alissa Violet]\\nDream Addix\\nYo, I was...  \n",
       "\n",
       "[4596 rows x 4 columns]"
      ]
     },
     "execution_count": 2,
     "metadata": {},
     "output_type": "execute_result"
    }
   ],
   "source": [
    "df"
   ]
  },
  {
   "cell_type": "code",
   "execution_count": 3,
   "metadata": {
    "colab": {
     "base_uri": "https://localhost:8080/",
     "height": 105
    },
    "colab_type": "code",
    "id": "Toc5UYo0i2J7",
    "outputId": "b2e1a0b9-4c27-4ffe-e731-5462f77646cd"
   },
   "outputs": [
    {
     "name": "stdout",
     "output_type": "stream",
     "text": [
      "Requirement already satisfied: vaderSentiment in c:\\users\\agam\\anaconda3\\lib\\site-packages (3.3.2)Note: you may need to restart the kernel to use updated packages.\n",
      "\n",
      "Requirement already satisfied: requests in c:\\users\\agam\\anaconda3\\lib\\site-packages (from vaderSentiment) (2.24.0)\n",
      "Requirement already satisfied: chardet<4,>=3.0.2 in c:\\users\\agam\\anaconda3\\lib\\site-packages (from requests->vaderSentiment) (3.0.4)\n",
      "Requirement already satisfied: certifi>=2017.4.17 in c:\\users\\agam\\anaconda3\\lib\\site-packages (from requests->vaderSentiment) (2020.6.20)\n",
      "Requirement already satisfied: idna<3,>=2.5 in c:\\users\\agam\\anaconda3\\lib\\site-packages (from requests->vaderSentiment) (2.10)\n",
      "Requirement already satisfied: urllib3!=1.25.0,!=1.25.1,<1.26,>=1.21.1 in c:\\users\\agam\\anaconda3\\lib\\site-packages (from requests->vaderSentiment) (1.25.9)\n"
     ]
    }
   ],
   "source": [
    "pip install vaderSentiment"
   ]
  },
  {
   "cell_type": "code",
   "execution_count": 4,
   "metadata": {
    "colab": {},
    "colab_type": "code",
    "id": "enFZpYXjjfrN"
   },
   "outputs": [],
   "source": [
    "from vaderSentiment.vaderSentiment import SentimentIntensityAnalyzer\n",
    "analyser = SentimentIntensityAnalyzer()"
   ]
  },
  {
   "cell_type": "code",
   "execution_count": 5,
   "metadata": {
    "colab": {},
    "colab_type": "code",
    "id": "hRmvagaVjju4"
   },
   "outputs": [],
   "source": [
    "def scores(sentence):\n",
    "  try:\n",
    "    score = analyser.polarity_scores(sentence)\n",
    "    m=[]\n",
    "    for scoress in score.values():\n",
    "      m.append(scoress)\n",
    "    return m\n",
    "  except:\n",
    "    return \"Null\"\n"
   ]
  },
  {
   "cell_type": "code",
   "execution_count": 6,
   "metadata": {
    "colab": {
     "base_uri": "https://localhost:8080/",
     "height": 87
    },
    "colab_type": "code",
    "id": "V8HprgeRkZxD",
    "outputId": "7516aa44-b390-4c91-b745-9d9423285ae1"
   },
   "outputs": [
    {
     "name": "stdout",
     "output_type": "stream",
     "text": [
      "   Name                          comment\n",
      "0   tom           Tom is a SHITTY person\n",
      "1  nick                     Nick is okay\n",
      "2  juli  Juli is such a NICE person !!!!\n"
     ]
    }
   ],
   "source": [
    "data = [['tom', \"Tom is a SHITTY person\"], ['nick', \"Nick is okay\"], ['juli', \"Juli is such a NICE person !!!!\"]] \n",
    "dff = pd.DataFrame(data, columns = ['Name', 'comment'])\n",
    "print(dff)"
   ]
  },
  {
   "cell_type": "code",
   "execution_count": 7,
   "metadata": {
    "colab": {},
    "colab_type": "code",
    "id": "IlbMatJQkfr9"
   },
   "outputs": [],
   "source": [
    "ratings=dff.apply(lambda row: scores(row['comment']),axis=1)\n",
    "dff['ratings']=ratings"
   ]
  },
  {
   "cell_type": "code",
   "execution_count": 8,
   "metadata": {
    "colab": {
     "base_uri": "https://localhost:8080/",
     "height": 136
    },
    "colab_type": "code",
    "id": "o0LV2n8Hki3M",
    "outputId": "7b9fdadc-8984-408a-ef65-03da6252f58a"
   },
   "outputs": [
    {
     "data": {
      "text/html": [
       "<div>\n",
       "<style scoped>\n",
       "    .dataframe tbody tr th:only-of-type {\n",
       "        vertical-align: middle;\n",
       "    }\n",
       "\n",
       "    .dataframe tbody tr th {\n",
       "        vertical-align: top;\n",
       "    }\n",
       "\n",
       "    .dataframe thead th {\n",
       "        text-align: right;\n",
       "    }\n",
       "</style>\n",
       "<table border=\"1\" class=\"dataframe\">\n",
       "  <thead>\n",
       "    <tr style=\"text-align: right;\">\n",
       "      <th></th>\n",
       "      <th>Name</th>\n",
       "      <th>comment</th>\n",
       "      <th>ratings</th>\n",
       "    </tr>\n",
       "  </thead>\n",
       "  <tbody>\n",
       "    <tr>\n",
       "      <th>0</th>\n",
       "      <td>tom</td>\n",
       "      <td>Tom is a SHITTY person</td>\n",
       "      <td>[0.52, 0.48, 0.0, -0.6523]</td>\n",
       "    </tr>\n",
       "    <tr>\n",
       "      <th>1</th>\n",
       "      <td>nick</td>\n",
       "      <td>Nick is okay</td>\n",
       "      <td>[0.0, 0.513, 0.487, 0.2263]</td>\n",
       "    </tr>\n",
       "    <tr>\n",
       "      <th>2</th>\n",
       "      <td>juli</td>\n",
       "      <td>Juli is such a NICE person !!!!</td>\n",
       "      <td>[0.0, 0.561, 0.439, 0.6909]</td>\n",
       "    </tr>\n",
       "  </tbody>\n",
       "</table>\n",
       "</div>"
      ],
      "text/plain": [
       "   Name                          comment                      ratings\n",
       "0   tom           Tom is a SHITTY person   [0.52, 0.48, 0.0, -0.6523]\n",
       "1  nick                     Nick is okay  [0.0, 0.513, 0.487, 0.2263]\n",
       "2  juli  Juli is such a NICE person !!!!  [0.0, 0.561, 0.439, 0.6909]"
      ]
     },
     "execution_count": 8,
     "metadata": {},
     "output_type": "execute_result"
    }
   ],
   "source": [
    "dff"
   ]
  },
  {
   "cell_type": "code",
   "execution_count": null,
   "metadata": {},
   "outputs": [],
   "source": [
    "ratings=df.apply(lambda row: scores(row['Lyrics']),axis=1)\n",
    "df['ratings']=ratings"
   ]
  },
  {
   "cell_type": "code",
   "execution_count": null,
   "metadata": {
    "colab": {
     "base_uri": "https://localhost:8080/",
     "height": 263
    },
    "colab_type": "code",
    "id": "yWv7zzmDtbW8",
    "outputId": "5b708483-1018-4cce-956e-f0362694fe7d"
   },
   "outputs": [
    {
     "name": "stdout",
     "output_type": "stream",
     "text": [
      "                     Song  ...                         ratings\n",
      "0                Firework  ...    [0.042, 0.848, 0.11, 0.9722]\n",
      "1                 Grenade  ...   [0.101, 0.613, 0.287, 0.9972]\n",
      "2         What's My Name?  ...    [0.004, 0.92, 0.076, 0.9897]\n",
      "3        Raise Your Glass  ...  [0.191, 0.742, 0.067, -0.9899]\n",
      "4           We R Who We R  ...  [0.164, 0.742, 0.094, -0.9492]\n",
      "...                   ...  ...                             ...\n",
      "4591           Throw That  ...   [0.116, 0.82, 0.064, -0.9958]\n",
      "4592                Unica  ...                            Null\n",
      "4593            Happy Now  ...   [0.041, 0.792, 0.167, 0.9905]\n",
      "4594          Younger Now  ...   [0.056, 0.88, 0.064, -0.1027]\n",
      "4595  Its Every Night Sis  ...  [0.191, 0.657, 0.152, -0.9874]\n",
      "\n",
      "[4596 rows x 4 columns]\n"
     ]
    }
   ],
   "source": [
    "print(df)"
   ]
  },
  {
   "cell_type": "code",
   "execution_count": null,
   "metadata": {
    "colab": {},
    "colab_type": "code",
    "id": "F48vC9Ur1Wrg"
   },
   "outputs": [],
   "source": [
    "df.to_csv('END.csv')"
   ]
  },
  {
   "cell_type": "code",
   "execution_count": null,
   "metadata": {
    "colab": {},
    "colab_type": "code",
    "id": "qioDxEtb1w9d"
   },
   "outputs": [],
   "source": []
  }
 ],
 "metadata": {
  "colab": {
   "authorship_tag": "ABX9TyOqIiD+s8Bovh76sTfVVO4n",
   "include_colab_link": true,
   "name": "songrecommend.ipynb",
   "provenance": []
  },
  "kernelspec": {
   "display_name": "Python 3",
   "language": "python",
   "name": "python3"
  },
  "language_info": {
   "codemirror_mode": {
    "name": "ipython",
    "version": 3
   },
   "file_extension": ".py",
   "mimetype": "text/x-python",
   "name": "python",
   "nbconvert_exporter": "python",
   "pygments_lexer": "ipython3",
   "version": "3.8.3"
  }
 },
 "nbformat": 4,
 "nbformat_minor": 4
}
